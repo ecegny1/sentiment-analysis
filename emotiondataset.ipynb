{
 "cells": [
  {
   "cell_type": "code",
   "execution_count": 1,
   "metadata": {},
   "outputs": [],
   "source": [
    "#Gerekli kütüphanelerin yüklenmesi\n",
    "import numpy as np\n",
    "import pandas as pd\n",
    "import matplotlib.pyplot as plt\n",
    "from sklearn import datasets\n",
    "from sklearn.model_selection import train_test_split\n",
    "from sklearn.preprocessing import StandardScaler\n",
    "from sklearn.svm import SVC\n",
    "from sklearn.metrics import classification_report, accuracy_score"
   ]
  },
  {
   "cell_type": "code",
   "execution_count": 2,
   "metadata": {},
   "outputs": [
    {
     "name": "stdout",
     "output_type": "stream",
     "text": [
      "                                                text  label\n",
      "0                            i didnt feel humiliated      0\n",
      "1  i can go from feeling so hopeless to so damned...      0\n",
      "2   im grabbing a minute to post i feel greedy wrong      3\n",
      "3  i am ever feeling nostalgic about the fireplac...      2\n",
      "4                               i am feeling grouchy      3\n"
     ]
    }
   ],
   "source": [
    "#Veri setini yükleme ve inceleme\n",
    "from datasets import load_dataset\n",
    "\n",
    "# Emotion veri setini yükle\n",
    "dataset = load_dataset(\"dair-ai/emotion\")\n",
    "\n",
    "# Eğitim verisini kontrol et\n",
    "print(dataset[\"train\"].to_pandas().head())\n"
   ]
  },
  {
   "cell_type": "code",
   "execution_count": 3,
   "metadata": {},
   "outputs": [],
   "source": [
    "# Pandas DataFrame'e dönüştür\n",
    "train_data = dataset[\"train\"].to_pandas()"
   ]
  },
  {
   "cell_type": "code",
   "execution_count": 4,
   "metadata": {},
   "outputs": [],
   "source": [
    "# Metin ve etiketleri ayır\n",
    "X = train_data[\"text\"]\n",
    "y = train_data[\"label\"]"
   ]
  },
  {
   "cell_type": "code",
   "execution_count": 6,
   "metadata": {},
   "outputs": [
    {
     "name": "stdout",
     "output_type": "stream",
     "text": [
      "Eğitim veri sayısı: 12800\n",
      "Test veri sayısı: 3200\n"
     ]
    }
   ],
   "source": [
    "# Eğitim ve test verilerine ayır\n",
    "X_train, X_test, y_train, y_test = train_test_split(X, y, test_size=0.2, random_state=42)\n",
    "\n",
    "print(f\"Eğitim veri sayısı: {len(X_train)}\")\n",
    "print(f\"Test veri sayısı: {len(X_test)}\")"
   ]
  },
  {
   "cell_type": "code",
   "execution_count": 7,
   "metadata": {},
   "outputs": [],
   "source": [
    "#Metinleri makine öğrenmesinde kullanabilmek için sayısal hale getirmek gerekir. Bunun için bu çalışmada  TfidfVectorizer yöntemi kullanılmıştır\n",
    "from sklearn.feature_extraction.text import TfidfVectorizer\n",
    "\n",
    "# Tfidf vektörleştirme\n",
    "vectorizer = TfidfVectorizer(max_features=5000)\n",
    "X_train_tfidf = vectorizer.fit_transform(X_train)\n",
    "X_test_tfidf = vectorizer.transform(X_test)\n"
   ]
  },
  {
   "cell_type": "code",
   "execution_count": 8,
   "metadata": {},
   "outputs": [
    {
     "name": "stdout",
     "output_type": "stream",
     "text": [
      "Doğruluk Skoru: 0.8925\n",
      "              precision    recall  f1-score   support\n",
      "\n",
      "           0       0.93      0.93      0.93       946\n",
      "           1       0.89      0.94      0.91      1021\n",
      "           2       0.81      0.74      0.77       296\n",
      "           3       0.89      0.88      0.89       427\n",
      "           4       0.86      0.86      0.86       397\n",
      "           5       0.91      0.70      0.79       113\n",
      "\n",
      "    accuracy                           0.89      3200\n",
      "   macro avg       0.88      0.84      0.86      3200\n",
      "weighted avg       0.89      0.89      0.89      3200\n",
      "\n"
     ]
    }
   ],
   "source": [
    "#Model Eğitme\n",
    "#Destek Vektör Makineleri (SVM) gibi bir model kullanarak sınıflandırma yapabilirsiniz:\n",
    "\n",
    "from sklearn.svm import LinearSVC\n",
    "from sklearn.metrics import classification_report, accuracy_score\n",
    "\n",
    "# Modeli oluştur ve eğit\n",
    "model = LinearSVC()\n",
    "model.fit(X_train_tfidf, y_train)\n",
    "\n",
    "# Test seti üzerinde tahmin yap\n",
    "y_pred = model.predict(X_test_tfidf)\n",
    "\n",
    "# Sonuçları değerlendir\n",
    "print(\"Doğruluk Skoru:\", accuracy_score(y_test, y_pred))\n",
    "print(classification_report(y_test, y_pred))\n"
   ]
  },
  {
   "cell_type": "code",
   "execution_count": 9,
   "metadata": {},
   "outputs": [
    {
     "data": {
      "image/png": "[encoded data removed]",
      "text/plain": [
       "<Figure size 640x480 with 2 Axes>"
      ]
     },
     "metadata": {},
     "output_type": "display_data"
    }
   ],
   "source": [
    "#Sonuçların Görselleştirilmesi\n",
    "#Sonuçları görselleştirmek için matplotlib kullanılmıştır\n",
    "\n",
    "import matplotlib.pyplot as plt\n",
    "from sklearn.metrics import ConfusionMatrixDisplay\n",
    "\n",
    "# Confusion Matrix\n",
    "ConfusionMatrixDisplay.from_predictions(y_test, y_pred)\n",
    "plt.show()"
   ]
  },
  {
   "cell_type": "markdown",
   "metadata": {},
   "source": [
    "Modelin Genel Performansı:\n",
    "\n",
    "Görseldeki büyük diagonal değerler (örneğin, 883, 957, vb.), modelin çoğu örneği doğru sınıflandırdığını gösteriyor.\n",
    "Ancak, bazı hatalar da mevcut. Örneğin, Sınıf 2'nin 64 örneği yanlışlıkla Sınıf 1 olarak etiketlenmiş, Sınıf 4'ün 22 örneği de yanlışlıkla Sınıf 5 olarak tahmin edilmiş.\n",
    "Bu hatalar, modelin bu sınıflar arasındaki farkı tam olarak öğrenemediğini veya sınıflar arasında benzerlikler olduğunu gösteriyor."
   ]
  }
 ],
 "metadata": {
  "kernelspec": {
   "display_name": "Python 3",
   "language": "python",
   "name": "python3"
  },
  "language_info": {
   "codemirror_mode": {
    "name": "ipython",
    "version": 3
   },
   "file_extension": ".py",
   "mimetype": "text/x-python",
   "name": "python",
   "nbconvert_exporter": "python",
   "pygments_lexer": "ipython3",
   "version": "3.13.0"
  }
 },
 "nbformat": 4,
 "nbformat_minor": 2
}
